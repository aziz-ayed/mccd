{
 "cells": [
  {
   "cell_type": "markdown",
   "metadata": {},
   "source": [
    "# Training and validating on simulated data\n",
    "\n",
    "In this notebook we go through the construction of a training and a testing dataset as has been done in the article.\n",
    "\n",
    "We then train our model and finally validate it with the testing dataset.\n",
    "\n"
   ]
  },
  {
   "cell_type": "code",
   "execution_count": 1,
   "metadata": {},
   "outputs": [
    {
     "name": "stdout",
     "output_type": "stream",
     "text": [
      "INFO:tensorflow:Enabling eager execution\n",
      "INFO:tensorflow:Enabling v2 tensorshape\n",
      "INFO:tensorflow:Enabling resource variables\n",
      "INFO:tensorflow:Enabling tensor equality\n",
      "INFO:tensorflow:Enabling control flow v2\n"
     ]
    }
   ],
   "source": [
    "import numpy as np\n",
    "import mccd.auxiliary_fun as mccd_aux\n",
    "import mccd\n",
    "from astropy.io import fits\n",
    "\n",
    "import random\n",
    "\n",
    "import matplotlib.pyplot as plt\n",
    "import matplotlib as mpl\n",
    "from mpl_toolkits.axes_grid1 import make_axes_locatable\n",
    "from matplotlib.colors import ListedColormap, LinearSegmentedColormap\n"
   ]
  },
  {
   "cell_type": "code",
   "execution_count": 2,
   "metadata": {},
   "outputs": [],
   "source": [
    "plt.rc('text', usetex=True)\n",
    "font = {'family' : 'serif',\n",
    "        'weight' : 'bold',\n",
    "        'size'   : 20}\n",
    "mpl.rc('font', **font)\n",
    "\n",
    "plot_style = {\n",
    "                'figure.figsize': (6,6),\n",
    "                'figure.dpi': 100,\n",
    "                'figure.autolayout':True,\n",
    "                'lines.linewidth': 4,\n",
    "                'lines.linestyle': '-',\n",
    "                'lines.marker': 'o',\n",
    "                'lines.markersize': 10,\n",
    "                'legend.fontsize': 20,\n",
    "                'legend.loc': 'best',\n",
    "                'axes.titlesize': 24,\n",
    "                'axes.grid': False,\n",
    "                'axes.grid.which': 'major',\n",
    "                'axes.grid.axis': 'both'}\n",
    "mpl.rcParams.update(plot_style)\n",
    "\n",
    "def plot_fun(star_img, cmap='gist_stern'):\n",
    "    fig = plt.figure()\n",
    "    ax1 = fig.add_subplot(111)\n",
    "    im1 = ax1.imshow(star_img, interpolation='None',cmap=cmap)\n",
    "    divider = make_axes_locatable(ax1)\n",
    "    cax = divider.append_axes(\"right\", size=\"5%\", pad=0.05)\n",
    "    cbar = fig.colorbar(im1, cax=cax, extend='both')\n",
    "    cbar.minorticks_on()\n",
    "    fig.tight_layout()\n",
    "    ax1.set_xticks([]);ax1.set_yticks([])\n",
    "    ax1.axis('off')\n",
    "    plt.show()\n",
    "\n",
    "loc2glob = mccd.mccd_utils.Loc2Glob()\n",
    "\n",
    "# Pre-defined colormap\n",
    "top = mpl.cm.get_cmap('Oranges_r', 128)\n",
    "bottom = mpl.cm.get_cmap('Blues', 128)\n",
    "newcolors = np.vstack((top(np.linspace(0, 1, 128)),\n",
    "                       bottom(np.linspace(0, 1, 128))))\n",
    "newcmp = ListedColormap(newcolors, name='OrangeBlue')\n",
    "\n",
    "def plot_ccds_fun(positions,mom,title):\n",
    "    fig = plt.figure(figsize=(8, 8))\n",
    "    ax1 = fig.add_subplot(111)\n",
    "    for ccd_it in range(40):\n",
    "        xs,ys = loc2glob.shift_coord(ccd_it)\n",
    "        rect = mpl.patches.Rectangle((xs,ys),2048,4612,linewidth=1,edgecolor='r',facecolor='none')\n",
    "        ax1.add_patch(rect)\n",
    "\n",
    "    im1 = ax1.scatter(positions[:, 0], positions[:, 1], s=5,c=mom, marker='*', cmap=newcmp)\n",
    "    divider = make_axes_locatable(ax1)\n",
    "    cax = divider.append_axes('right', size='5%', pad=0.05)\n",
    "    fig.colorbar(im1, cax=cax, orientation='vertical')\n",
    "    ax1.set_xticks([]);ax1.set_yticks([])\n",
    "    ax1.axis('off')\n",
    "    ax1.set_title(title)\n",
    "    plt.show()\n",
    "    "
   ]
  },
  {
   "cell_type": "markdown",
   "metadata": {},
   "source": [
    "# Generate training and testing datasets"
   ]
  },
  {
   "cell_type": "code",
   "execution_count": 3,
   "metadata": {},
   "outputs": [],
   "source": [
    "input_pos_path = './../data/sim_inputs/train_positions.npy'\n",
    "input_ccd_path = './../data/sim_inputs/train_ccd_list.npy'\n",
    "output_path = './../data/mccd_inputs/'\n",
    "\n",
    "sim_dataset_generator = mccd_aux.GenerateSimDataset(input_pos_path, input_ccd_path, output_path)\n",
    "\n",
    "sim_dataset_generator.load_data()\n",
    "# Posibility to define the simulation parameters\n",
    "sim_dataset_generator.generate_train_data()  # Using default parameters\n",
    "# Defining the testing grid\n",
    "sim_dataset_generator.generate_test_data(x_grid=5, y_grid=10)\n"
   ]
  },
  {
   "cell_type": "code",
   "execution_count": 4,
   "metadata": {},
   "outputs": [],
   "source": [
    "# Get the dataset paths\n",
    "ext = '.fits'\n",
    "catalog_id = sim_dataset_generator.catalog_id\n",
    "\n",
    "train_cat_path = output_path + 'train_star_selection-' + str(catalog_id) + ext\n",
    "test_cat_path = output_path + 'test_star_selection-' + str(catalog_id) + ext\n"
   ]
  },
  {
   "cell_type": "markdown",
   "metadata": {},
   "source": [
    "# Check the trainiung dataset"
   ]
  },
  {
   "cell_type": "code",
   "execution_count": 5,
   "metadata": {},
   "outputs": [],
   "source": [
    "train_cat = fits.open(train_cat_path)[1]"
   ]
  },
  {
   "cell_type": "code",
   "execution_count": 6,
   "metadata": {
    "scrolled": false
   },
   "outputs": [],
   "source": [
    "pos = train_cat.data['GLOB_POSITION_IMG_LIST']\n",
    "#plot_ccds_fun(pos,train_cat.data['TRUE_E1_HSM'],'e1 star positions')\n",
    "#plot_ccds_fun(pos,train_cat.data['TRUE_E2_HSM'],'e2 star positions')\n",
    "#plot_ccds_fun(pos,2.*train_cat.data['TRUE_SIG_HSM']**2,'R2 star positions')\n"
   ]
  },
  {
   "cell_type": "markdown",
   "metadata": {},
   "source": [
    "# Prepare for the training\n",
    "\n",
    "We need to prepare the elements we will feed the MCCD algorithm.\n",
    "\n",
    "- Each input should be a list of elements.\n",
    "- Each position in the list will correspond to the data from one CCD.\n",
    "- The CCD id of each position should be included in the ``ccd_list``.\n",
    "\n",
    "\n",
    "- Data in fits file are concatenated over the first dimension into a large np.ndarray.\n",
    "- We need to split the data to have it assigned for the corresponding CCD.\n",
    "\n"
   ]
  },
  {
   "cell_type": "code",
   "execution_count": 7,
   "metadata": {},
   "outputs": [],
   "source": [
    "# Load the data\n",
    "train_cat = fits.open(train_cat_path)"
   ]
  },
  {
   "cell_type": "code",
   "execution_count": 8,
   "metadata": {},
   "outputs": [
    {
     "data": {
      "text/plain": [
       "ColDefs(\n",
       "    name = 'VIGNET_LIST'; format = '2601D'; dim = '(51, 51)'\n",
       "    name = 'GLOB_POSITION_IMG_LIST'; format = '2D'; dim = '(2,)'\n",
       "    name = 'MASK_LIST'; format = '2601D'; dim = '(51, 51)'\n",
       "    name = 'CCD_ID_LIST'; format = '1D'\n",
       "    name = 'TRUE_E1_HSM'; format = '1D'\n",
       "    name = 'TRUE_E2_HSM'; format = '1D'\n",
       "    name = 'TRUE_SIG_HSM'; format = '1D'\n",
       ")"
      ]
     },
     "execution_count": 8,
     "metadata": {},
     "output_type": "execute_result"
    }
   ],
   "source": [
    "train_cat[1].columns"
   ]
  },
  {
   "cell_type": "code",
   "execution_count": 9,
   "metadata": {},
   "outputs": [],
   "source": [
    "# Extract the data from the fits catalog \n",
    "positions = np.copy(train_cat[1].data['GLOB_POSITION_IMG_LIST'])\n",
    "stars = np.copy(train_cat[1].data['VIGNET_LIST'])\n",
    "ccds = np.copy(train_cat[1].data['CCD_ID_LIST']).astype(int)\n",
    "ccds_unique = np.unique(np.copy(train_cat[1].data['CCD_ID_LIST'])).astype(int)\n",
    "# Generate the masks\n",
    "masks = mccd.utils.handle_SExtractor_mask(stars,thresh=-1e5)\n",
    "\n",
    "# Generate the list format needed by the MCCD package\n",
    "pos_list = [positions[ccds == ccd] for ccd in ccds_unique]\n",
    "star_list = [mccd.utils.rca_format(stars[ccds == ccd]) for ccd in ccds_unique]\n",
    "mask_list = [mccd.utils.rca_format(masks[ccds == ccd]) for ccd in ccds_unique]\n",
    "ccd_list = [ccds[ccds == ccd].astype(int) for ccd in ccds_unique]\n",
    "ccd_list = [np.unique(_list)[0].astype(int) for _list in ccd_list]\n",
    "SNR_weight_list = None  # We wont use any weighting technique as the SNR is constant over the Field of View\n"
   ]
  },
  {
   "cell_type": "code",
   "execution_count": null,
   "metadata": {},
   "outputs": [],
   "source": []
  },
  {
   "cell_type": "markdown",
   "metadata": {},
   "source": [
    "# MCCD train parameters"
   ]
  },
  {
   "cell_type": "code",
   "execution_count": 10,
   "metadata": {},
   "outputs": [],
   "source": [
    "# Parameters\n",
    "\n",
    "# MCCD instance\n",
    "n_comp_loc = 8 \n",
    "d_comp_glob = 8\n",
    "filters = None\n",
    "ksig_loc = 1.\n",
    "ksig_glob = 1.\n",
    "\n",
    "# MCCD fit\n",
    "psf_size = 6.15\n",
    "psf_size_type = 'R2'\n",
    "n_eigenvects = 5\n",
    "n_iter_rca = 1\n",
    "nb_iter_glob = 2 \n",
    "nb_iter_loc = 2\n",
    "nb_subiter_S_loc = 100\n",
    "nb_subiter_A_loc = 500\n",
    "nb_subiter_S_glob = 30\n",
    "nb_subiter_A_glob = 200\n",
    "loc_model = 'hybrid'\n",
    "\n",
    "\n",
    "# Build the paramter dictionaries\n",
    "mccd_inst_kw = {'n_comp_loc': n_comp_loc, 'd_comp_glob': d_comp_glob,\n",
    "                'filters': filters,       'ksig_loc': ksig_loc,\n",
    "                'ksig_glob':ksig_glob}\n",
    "\n",
    "mccd_fit_kw = {'psf_size': psf_size,                  'psf_size_type':psf_size_type,\n",
    "              'n_eigenvects': n_eigenvects,          'nb_iter':n_iter_rca,\n",
    "              'nb_iter_glob':nb_iter_glob,           'nb_iter_loc':nb_iter_loc,\n",
    "              'nb_subiter_S_loc':nb_subiter_S_loc,   'nb_subiter_A_loc':nb_subiter_A_loc,\n",
    "              'nb_subiter_S_glob':nb_subiter_S_glob, 'nb_subiter_A_glob':nb_subiter_A_glob,\n",
    "              'loc_model':loc_model}\n"
   ]
  },
  {
   "cell_type": "markdown",
   "metadata": {},
   "source": [
    "# Launch the training\n",
    "\n",
    "- Then save the fitted model"
   ]
  },
  {
   "cell_type": "code",
   "execution_count": 11,
   "metadata": {
    "scrolled": false
   },
   "outputs": [
    {
     "name": "stdout",
     "output_type": "stream",
     "text": [
      "Running basic initialization tasks...\n",
      "... Done.\n",
      "Constructing local spatial constraint...\n"
     ]
    },
    {
     "name": "stderr",
     "output_type": "stream",
     "text": [
      "/Users/oa265351/opt/miniconda3/envs/denoising/lib/python3.9/site-packages/mccd-0.0.4-py3.9.egg/mccd/utils.py:523: FutureWarning: arrays to stack must be passed as a \"sequence\" type such as list or tuple. Support for non-sequence iterables such as generators is deprecated as of NumPy 1.16 and will raise an error in the future.\n"
     ]
    },
    {
     "name": "stdout",
     "output_type": "stream",
     "text": [
      "... Done.\n",
      "Building position polynomials...\n",
      "... Done.\n"
     ]
    },
    {
     "name": "stderr",
     "output_type": "stream",
     "text": [
      "\u001b[33mWARNING\u001b[0m: Making input data immutable.\n",
      "\u001b[33mWARNING\u001b[0m: Making input data immutable.\n",
      "\u001b[33mWARNING\u001b[0m: Making input data immutable.\n",
      "\u001b[33mWARNING\u001b[0m: Making input data immutable.\n",
      "\u001b[33mWARNING\u001b[0m: Making input data immutable.\n",
      "\u001b[33mWARNING\u001b[0m: Making input data immutable.\n",
      "\u001b[33mWARNING\u001b[0m: Making input data immutable.\n",
      "\u001b[33mWARNING\u001b[0m: Making input data immutable.\n",
      "\u001b[33mWARNING\u001b[0m: Making input data immutable.\n",
      "\u001b[33mWARNING\u001b[0m: Making input data immutable.\n",
      "\u001b[33mWARNING\u001b[0m: Making input data immutable.\n",
      "\u001b[33mWARNING\u001b[0m: Making input data immutable.\n",
      "\u001b[33mWARNING\u001b[0m: Making input data immutable.\n",
      "\u001b[33mWARNING\u001b[0m: Making input data immutable.\n",
      "\u001b[33mWARNING\u001b[0m: Making input data immutable.\n",
      "\u001b[33mWARNING\u001b[0m: Making input data immutable.\n",
      "\u001b[33mWARNING\u001b[0m: Making input data immutable.\n",
      "\u001b[33mWARNING\u001b[0m: Making input data immutable.\n",
      "\u001b[33mWARNING\u001b[0m: Making input data immutable.\n",
      "\u001b[33mWARNING\u001b[0m: Making input data immutable.\n",
      "\u001b[33mWARNING\u001b[0m: Making input data immutable.\n",
      "\u001b[33mWARNING\u001b[0m: Making input data immutable.\n",
      "\u001b[33mWARNING\u001b[0m: Making input data immutable.\n",
      "\u001b[33mWARNING\u001b[0m: Making input data immutable.\n",
      "\u001b[33mWARNING\u001b[0m: Making input data immutable.\n",
      "\u001b[33mWARNING\u001b[0m: Making input data immutable.\n",
      "\u001b[33mWARNING\u001b[0m: Making input data immutable.\n",
      "\u001b[33mWARNING\u001b[0m: Making input data immutable.\n",
      "\u001b[33mWARNING\u001b[0m: Making input data immutable.\n",
      "\u001b[33mWARNING\u001b[0m: Making input data immutable.\n",
      "\u001b[33mWARNING\u001b[0m: Making input data immutable.\n",
      "\u001b[33mWARNING\u001b[0m: Making input data immutable.\n",
      "\u001b[33mWARNING\u001b[0m: Making input data immutable.\n",
      "\u001b[33mWARNING\u001b[0m: Making input data immutable.\n",
      "\u001b[33mWARNING\u001b[0m: Making input data immutable.\n",
      "\u001b[33mWARNING\u001b[0m: Making input data immutable.\n",
      "\u001b[33mWARNING\u001b[0m: Making input data immutable.\n",
      "\u001b[33mWARNING\u001b[0m: Making input data immutable.\n",
      "\u001b[33mWARNING\u001b[0m: Making input data immutable.\n",
      "\u001b[33mWARNING\u001b[0m: Making input data immutable.\n",
      "\u001b[33mWARNING\u001b[0m: Making input data immutable.\n",
      "\u001b[33mWARNING\u001b[0m: Making input data immutable.\n"
     ]
    },
    {
     "name": "stdout",
     "output_type": "stream",
     "text": [
      "(51, 51, 14)\n",
      "(14, 51, 51)\n",
      "WARNING:tensorflow:SavedModel saved prior to TF 2.5 detected when loading Keras model. Please ensure that you are saving the model with model.save() or tf.keras.models.save_model(), *NOT* tf.saved_model.save(). To confirm, there should be a file named \"keras_metadata.pb\" in the SavedModel directory.\n",
      "allo\n",
      "(51, 51, 14)\n"
     ]
    },
    {
     "name": "stderr",
     "output_type": "stream",
     "text": [
      "\u001b[33mWARNING\u001b[0m: <class 'mccd.proxs.Unets'> does not inherit an operator parent.\n"
     ]
    },
    {
     "name": "stdout",
     "output_type": "stream",
     "text": [
      " - Converged!\n"
     ]
    },
    {
     "name": "stderr",
     "output_type": "stream",
     "text": [
      "100% (30 of 30) |########################| Elapsed Time: 0:00:00 ETA:  00:00:00\n",
      "\u001b[33mWARNING\u001b[0m: <class 'mccd.proxs.KThreshold'> does not inherit an operator parent.\n",
      "\u001b[33mWARNING\u001b[0m: <class 'mccd.proxs.proxNormalization'> does not inherit an operator parent.\n",
      "\u001b[33mWARNING\u001b[0m: <class 'mccd.proxs.LinRecombineAlpha'> does not inherit an operator parent.\n",
      " 53% (106 of 200) |###########           | Elapsed Time: 0:04:08 ETA:   0:03:39"
     ]
    },
    {
     "name": "stdout",
     "output_type": "stream",
     "text": [
      " - Converged!\n"
     ]
    },
    {
     "name": "stderr",
     "output_type": "stream",
     "text": [
      "100% (200 of 200) |######################| Elapsed Time: 0:04:11 Time:  0:04:11\n"
     ]
    },
    {
     "ename": "KeyboardInterrupt",
     "evalue": "",
     "output_type": "error",
     "traceback": [
      "\u001b[0;31m---------------------------------------------------------------------------\u001b[0m",
      "\u001b[0;31mKeyboardInterrupt\u001b[0m                         Traceback (most recent call last)",
      "\u001b[0;32m<ipython-input-11-44a41f4bebb5>\u001b[0m in \u001b[0;36m<module>\u001b[0;34m\u001b[0m\n\u001b[1;32m      2\u001b[0m \u001b[0mmccd_instance\u001b[0m \u001b[0;34m=\u001b[0m \u001b[0mmccd\u001b[0m\u001b[0;34m.\u001b[0m\u001b[0mMCCD\u001b[0m\u001b[0;34m(\u001b[0m\u001b[0;34m**\u001b[0m\u001b[0mmccd_inst_kw\u001b[0m\u001b[0;34m,\u001b[0m \u001b[0mverbose\u001b[0m\u001b[0;34m=\u001b[0m\u001b[0;32mTrue\u001b[0m\u001b[0;34m)\u001b[0m\u001b[0;34m\u001b[0m\u001b[0;34m\u001b[0m\u001b[0m\n\u001b[1;32m      3\u001b[0m \u001b[0;31m# Launch the training\u001b[0m\u001b[0;34m\u001b[0m\u001b[0;34m\u001b[0m\u001b[0;34m\u001b[0m\u001b[0m\n\u001b[0;32m----> 4\u001b[0;31m S, A_loc, A_glob, alpha, pi = mccd_instance.fit(star_list, pos_list, ccd_list, mask_list,\n\u001b[0m\u001b[1;32m      5\u001b[0m                                                 SNR_weight_list, **mccd_fit_kw)\n\u001b[1;32m      6\u001b[0m \u001b[0;34m\u001b[0m\u001b[0m\n",
      "\u001b[0;32m~/opt/miniconda3/envs/denoising/lib/python3.9/site-packages/mccd-0.0.4-py3.9.egg/mccd/mccd.py\u001b[0m in \u001b[0;36mfit\u001b[0;34m(self, obs_data, obs_pos, ccd_list, obs_weights, SNR_weight_list, S, VT, Pi, alpha, shifts, sigs, psf_size, psf_size_type, flux, nb_iter, nb_iter_glob, nb_iter_loc, nb_subiter_S_loc, nb_reweight, nb_subiter_A_loc, nb_subiter_S_glob, nb_subiter_A_glob, n_eigenvects, loc_model, pi_degree, graph_kwargs)\u001b[0m\n\u001b[1;32m    474\u001b[0m \u001b[0;34m\u001b[0m\u001b[0m\n\u001b[1;32m    475\u001b[0m         \u001b[0;31m# Finally fit the model\u001b[0m\u001b[0;34m\u001b[0m\u001b[0;34m\u001b[0m\u001b[0;34m\u001b[0m\u001b[0m\n\u001b[0;32m--> 476\u001b[0;31m         \u001b[0mself\u001b[0m\u001b[0;34m.\u001b[0m\u001b[0m_fit\u001b[0m\u001b[0;34m(\u001b[0m\u001b[0;34m)\u001b[0m\u001b[0;34m\u001b[0m\u001b[0;34m\u001b[0m\u001b[0m\n\u001b[0m\u001b[1;32m    477\u001b[0m         \u001b[0mself\u001b[0m\u001b[0;34m.\u001b[0m\u001b[0mis_fitted\u001b[0m \u001b[0;34m=\u001b[0m \u001b[0;32mTrue\u001b[0m\u001b[0;34m\u001b[0m\u001b[0;34m\u001b[0m\u001b[0m\n\u001b[1;32m    478\u001b[0m         \u001b[0;32mreturn\u001b[0m \u001b[0mself\u001b[0m\u001b[0;34m.\u001b[0m\u001b[0mS\u001b[0m\u001b[0;34m,\u001b[0m \u001b[0mself\u001b[0m\u001b[0;34m.\u001b[0m\u001b[0mA_loc\u001b[0m\u001b[0;34m,\u001b[0m \u001b[0mself\u001b[0m\u001b[0;34m.\u001b[0m\u001b[0mA_glob\u001b[0m\u001b[0;34m,\u001b[0m \u001b[0mself\u001b[0m\u001b[0;34m.\u001b[0m\u001b[0malpha\u001b[0m\u001b[0;34m,\u001b[0m \u001b[0mself\u001b[0m\u001b[0;34m.\u001b[0m\u001b[0mPi\u001b[0m\u001b[0;34m\u001b[0m\u001b[0;34m\u001b[0m\u001b[0m\n",
      "\u001b[0;32m~/opt/miniconda3/envs/denoising/lib/python3.9/site-packages/mccd-0.0.4-py3.9.egg/mccd/mccd.py\u001b[0m in \u001b[0;36m_fit\u001b[0;34m(self)\u001b[0m\n\u001b[1;32m    846\u001b[0m \u001b[0;34m\u001b[0m\u001b[0m\n\u001b[1;32m    847\u001b[0m                 \u001b[0;31m# Components gradient update\u001b[0m\u001b[0;34m\u001b[0m\u001b[0;34m\u001b[0m\u001b[0;34m\u001b[0m\u001b[0m\n\u001b[0;32m--> 848\u001b[0;31m                 \u001b[0msource_glob_grad\u001b[0m\u001b[0;34m.\u001b[0m\u001b[0mupdate_A\u001b[0m\u001b[0;34m(\u001b[0m\u001b[0mconc\u001b[0m\u001b[0;34m(\u001b[0m\u001b[0mweights_glob\u001b[0m\u001b[0;34m,\u001b[0m \u001b[0maxis\u001b[0m\u001b[0;34m=\u001b[0m\u001b[0;36m1\u001b[0m\u001b[0;34m)\u001b[0m\u001b[0;34m)\u001b[0m\u001b[0;34m\u001b[0m\u001b[0;34m\u001b[0m\u001b[0m\n\u001b[0m\u001b[1;32m    849\u001b[0m                 \u001b[0msource_glob_grad\u001b[0m\u001b[0;34m.\u001b[0m\u001b[0mupdate_H_loc\u001b[0m\u001b[0;34m(\u001b[0m\u001b[0mconc\u001b[0m\u001b[0;34m(\u001b[0m\u001b[0mH_loc\u001b[0m\u001b[0;34m,\u001b[0m \u001b[0maxis\u001b[0m\u001b[0;34m=\u001b[0m\u001b[0;36m2\u001b[0m\u001b[0;34m)\u001b[0m\u001b[0;34m)\u001b[0m\u001b[0;34m\u001b[0m\u001b[0;34m\u001b[0m\u001b[0m\n\u001b[1;32m    850\u001b[0m \u001b[0;34m\u001b[0m\u001b[0m\n",
      "\u001b[0;32m~/opt/miniconda3/envs/denoising/lib/python3.9/site-packages/mccd-0.0.4-py3.9.egg/mccd/grads.py\u001b[0m in \u001b[0;36mupdate_A\u001b[0;34m(self, new_A, update_spectral_radius)\u001b[0m\n\u001b[1;32m    553\u001b[0m         \u001b[0mself\u001b[0m\u001b[0;34m.\u001b[0m\u001b[0mA\u001b[0m \u001b[0;34m=\u001b[0m \u001b[0mnew_A\u001b[0m\u001b[0;34m\u001b[0m\u001b[0;34m\u001b[0m\u001b[0m\n\u001b[1;32m    554\u001b[0m         \u001b[0;32mif\u001b[0m \u001b[0mupdate_spectral_radius\u001b[0m\u001b[0;34m:\u001b[0m\u001b[0;34m\u001b[0m\u001b[0;34m\u001b[0m\u001b[0m\n\u001b[0;32m--> 555\u001b[0;31m             \u001b[0mPowerMethod\u001b[0m\u001b[0;34m.\u001b[0m\u001b[0mget_spec_rad\u001b[0m\u001b[0;34m(\u001b[0m\u001b[0mself\u001b[0m\u001b[0;34m)\u001b[0m\u001b[0;34m\u001b[0m\u001b[0;34m\u001b[0m\u001b[0m\n\u001b[0m\u001b[1;32m    556\u001b[0m \u001b[0;34m\u001b[0m\u001b[0m\n\u001b[1;32m    557\u001b[0m     \u001b[0;32mdef\u001b[0m \u001b[0mupdate_H_loc\u001b[0m\u001b[0;34m(\u001b[0m\u001b[0mself\u001b[0m\u001b[0;34m,\u001b[0m \u001b[0mnew_H_loc\u001b[0m\u001b[0;34m)\u001b[0m\u001b[0;34m:\u001b[0m\u001b[0;34m\u001b[0m\u001b[0;34m\u001b[0m\u001b[0m\n",
      "\u001b[0;32m~/opt/miniconda3/envs/denoising/lib/python3.9/site-packages/modopt/math/matrix.py\u001b[0m in \u001b[0;36mget_spec_rad\u001b[0;34m(self, tolerance, max_iter, extra_factor)\u001b[0m\n\u001b[1;32m    358\u001b[0m             \u001b[0mx_old_norm\u001b[0m \u001b[0;34m=\u001b[0m \u001b[0mxp\u001b[0m\u001b[0;34m.\u001b[0m\u001b[0mlinalg\u001b[0m\u001b[0;34m.\u001b[0m\u001b[0mnorm\u001b[0m\u001b[0;34m(\u001b[0m\u001b[0mx_old\u001b[0m\u001b[0;34m)\u001b[0m\u001b[0;34m\u001b[0m\u001b[0;34m\u001b[0m\u001b[0m\n\u001b[1;32m    359\u001b[0m \u001b[0;34m\u001b[0m\u001b[0m\n\u001b[0;32m--> 360\u001b[0;31m             \u001b[0mx_new\u001b[0m \u001b[0;34m=\u001b[0m \u001b[0mself\u001b[0m\u001b[0;34m.\u001b[0m\u001b[0m_operator\u001b[0m\u001b[0;34m(\u001b[0m\u001b[0mx_old\u001b[0m\u001b[0;34m)\u001b[0m \u001b[0;34m/\u001b[0m \u001b[0mx_old_norm\u001b[0m\u001b[0;34m\u001b[0m\u001b[0;34m\u001b[0m\u001b[0m\n\u001b[0m\u001b[1;32m    361\u001b[0m \u001b[0;34m\u001b[0m\u001b[0m\n\u001b[1;32m    362\u001b[0m             \u001b[0mx_new_norm\u001b[0m \u001b[0;34m=\u001b[0m \u001b[0mxp\u001b[0m\u001b[0;34m.\u001b[0m\u001b[0mlinalg\u001b[0m\u001b[0;34m.\u001b[0m\u001b[0mnorm\u001b[0m\u001b[0;34m(\u001b[0m\u001b[0mx_new\u001b[0m\u001b[0;34m)\u001b[0m\u001b[0;34m\u001b[0m\u001b[0;34m\u001b[0m\u001b[0m\n",
      "\u001b[0;32m~/opt/miniconda3/envs/denoising/lib/python3.9/site-packages/modopt/opt/gradient.py\u001b[0m in \u001b[0;36mtrans_op_op\u001b[0;34m(self, input_data)\u001b[0m\n\u001b[1;32m    176\u001b[0m \u001b[0;34m\u001b[0m\u001b[0m\n\u001b[1;32m    177\u001b[0m         \"\"\"\n\u001b[0;32m--> 178\u001b[0;31m         \u001b[0;32mreturn\u001b[0m \u001b[0mself\u001b[0m\u001b[0;34m.\u001b[0m\u001b[0mtrans_op\u001b[0m\u001b[0;34m(\u001b[0m\u001b[0mself\u001b[0m\u001b[0;34m.\u001b[0m\u001b[0mop\u001b[0m\u001b[0;34m(\u001b[0m\u001b[0minput_data\u001b[0m\u001b[0;34m)\u001b[0m\u001b[0;34m)\u001b[0m\u001b[0;34m\u001b[0m\u001b[0;34m\u001b[0m\u001b[0m\n\u001b[0m\u001b[1;32m    179\u001b[0m \u001b[0;34m\u001b[0m\u001b[0m\n\u001b[1;32m    180\u001b[0m \u001b[0;34m\u001b[0m\u001b[0m\n",
      "\u001b[0;32m~/opt/miniconda3/envs/denoising/lib/python3.9/site-packages/modopt/base/wrappers.py\u001b[0m in \u001b[0;36mwrapper\u001b[0;34m(*args, **kwargs)\u001b[0m\n\u001b[1;32m     45\u001b[0m             \u001b[0;32mreturn\u001b[0m \u001b[0mfunc\u001b[0m\u001b[0;34m(\u001b[0m\u001b[0;34m*\u001b[0m\u001b[0margs\u001b[0m\u001b[0;34m,\u001b[0m \u001b[0;34m**\u001b[0m\u001b[0mkwargs\u001b[0m\u001b[0;34m)\u001b[0m\u001b[0;34m\u001b[0m\u001b[0;34m\u001b[0m\u001b[0m\n\u001b[1;32m     46\u001b[0m \u001b[0;34m\u001b[0m\u001b[0m\n\u001b[0;32m---> 47\u001b[0;31m         \u001b[0;32mreturn\u001b[0m \u001b[0mfunc\u001b[0m\u001b[0;34m(\u001b[0m\u001b[0;34m*\u001b[0m\u001b[0margs\u001b[0m\u001b[0;34m)\u001b[0m\u001b[0;34m\u001b[0m\u001b[0;34m\u001b[0m\u001b[0m\n\u001b[0m\u001b[1;32m     48\u001b[0m \u001b[0;34m\u001b[0m\u001b[0m\n\u001b[1;32m     49\u001b[0m     \u001b[0;32mreturn\u001b[0m \u001b[0mwrapper\u001b[0m\u001b[0;34m\u001b[0m\u001b[0;34m\u001b[0m\u001b[0m\n",
      "\u001b[0;32m~/opt/miniconda3/envs/denoising/lib/python3.9/site-packages/mccd-0.0.4-py3.9.egg/mccd/grads.py\u001b[0m in \u001b[0;36mMtX\u001b[0;34m(self, x)\u001b[0m\n\u001b[1;32m    600\u001b[0m         \u001b[0mx\u001b[0m \u001b[0;34m=\u001b[0m \u001b[0mutils\u001b[0m\u001b[0;34m.\u001b[0m\u001b[0mreg_format\u001b[0m\u001b[0;34m(\u001b[0m\u001b[0mx\u001b[0m \u001b[0;34m*\u001b[0m \u001b[0mself\u001b[0m\u001b[0;34m.\u001b[0m\u001b[0mSNR_weights\u001b[0m\u001b[0;34m)\u001b[0m\u001b[0;34m\u001b[0m\u001b[0;34m\u001b[0m\u001b[0m\n\u001b[1;32m    601\u001b[0m         upsamp_x = np.array(\n\u001b[0;32m--> 602\u001b[0;31m             [nf * utils.adjoint_degradation_op(x_i, shift_ker, self.D) for\n\u001b[0m\u001b[1;32m    603\u001b[0m              \u001b[0mnf\u001b[0m\u001b[0;34m,\u001b[0m \u001b[0mx_i\u001b[0m\u001b[0;34m,\u001b[0m \u001b[0mshift_ker\u001b[0m\u001b[0;34m\u001b[0m\u001b[0;34m\u001b[0m\u001b[0m\n\u001b[1;32m    604\u001b[0m              in zip(self.normfacs, x, utils.reg_format(self.ker_rot))])\n",
      "\u001b[0;32m~/opt/miniconda3/envs/denoising/lib/python3.9/site-packages/mccd-0.0.4-py3.9.egg/mccd/grads.py\u001b[0m in \u001b[0;36m<listcomp>\u001b[0;34m(.0)\u001b[0m\n\u001b[1;32m    600\u001b[0m         \u001b[0mx\u001b[0m \u001b[0;34m=\u001b[0m \u001b[0mutils\u001b[0m\u001b[0;34m.\u001b[0m\u001b[0mreg_format\u001b[0m\u001b[0;34m(\u001b[0m\u001b[0mx\u001b[0m \u001b[0;34m*\u001b[0m \u001b[0mself\u001b[0m\u001b[0;34m.\u001b[0m\u001b[0mSNR_weights\u001b[0m\u001b[0;34m)\u001b[0m\u001b[0;34m\u001b[0m\u001b[0;34m\u001b[0m\u001b[0m\n\u001b[1;32m    601\u001b[0m         upsamp_x = np.array(\n\u001b[0;32m--> 602\u001b[0;31m             [nf * utils.adjoint_degradation_op(x_i, shift_ker, self.D) for\n\u001b[0m\u001b[1;32m    603\u001b[0m              \u001b[0mnf\u001b[0m\u001b[0;34m,\u001b[0m \u001b[0mx_i\u001b[0m\u001b[0;34m,\u001b[0m \u001b[0mshift_ker\u001b[0m\u001b[0;34m\u001b[0m\u001b[0;34m\u001b[0m\u001b[0m\n\u001b[1;32m    604\u001b[0m              in zip(self.normfacs, x, utils.reg_format(self.ker_rot))])\n",
      "\u001b[0;32m~/opt/miniconda3/envs/denoising/lib/python3.9/site-packages/mccd-0.0.4-py3.9.egg/mccd/utils.py\u001b[0m in \u001b[0;36madjoint_degradation_op\u001b[0;34m(x_i, shift_ker, D)\u001b[0m\n\u001b[1;32m    724\u001b[0m \u001b[0;32mdef\u001b[0m \u001b[0madjoint_degradation_op\u001b[0m\u001b[0;34m(\u001b[0m\u001b[0mx_i\u001b[0m\u001b[0;34m,\u001b[0m \u001b[0mshift_ker\u001b[0m\u001b[0;34m,\u001b[0m \u001b[0mD\u001b[0m\u001b[0;34m)\u001b[0m\u001b[0;34m:\u001b[0m\u001b[0;34m\u001b[0m\u001b[0;34m\u001b[0m\u001b[0m\n\u001b[1;32m    725\u001b[0m     \u001b[0;34mr\"\"\"Apply adjoint of the degradation operator ``degradation_op``.\"\"\"\u001b[0m\u001b[0;34m\u001b[0m\u001b[0;34m\u001b[0m\u001b[0m\n\u001b[0;32m--> 726\u001b[0;31m     return scisig.fftconvolve(transpose_decim(x_i, D),\n\u001b[0m\u001b[1;32m    727\u001b[0m                               shift_ker, mode='same')\n\u001b[1;32m    728\u001b[0m \u001b[0;34m\u001b[0m\u001b[0m\n",
      "\u001b[0;32m~/opt/miniconda3/envs/denoising/lib/python3.9/site-packages/scipy/signal/signaltools.py\u001b[0m in \u001b[0;36mfftconvolve\u001b[0;34m(in1, in2, mode, axes)\u001b[0m\n\u001b[1;32m    517\u001b[0m \u001b[0;34m\u001b[0m\u001b[0m\n\u001b[1;32m    518\u001b[0m     \"\"\"\n\u001b[0;32m--> 519\u001b[0;31m     \u001b[0min1\u001b[0m \u001b[0;34m=\u001b[0m \u001b[0mnp\u001b[0m\u001b[0;34m.\u001b[0m\u001b[0masarray\u001b[0m\u001b[0;34m(\u001b[0m\u001b[0min1\u001b[0m\u001b[0;34m)\u001b[0m\u001b[0;34m\u001b[0m\u001b[0;34m\u001b[0m\u001b[0m\n\u001b[0m\u001b[1;32m    520\u001b[0m     \u001b[0min2\u001b[0m \u001b[0;34m=\u001b[0m \u001b[0mnp\u001b[0m\u001b[0;34m.\u001b[0m\u001b[0masarray\u001b[0m\u001b[0;34m(\u001b[0m\u001b[0min2\u001b[0m\u001b[0;34m)\u001b[0m\u001b[0;34m\u001b[0m\u001b[0;34m\u001b[0m\u001b[0m\n\u001b[1;32m    521\u001b[0m \u001b[0;34m\u001b[0m\u001b[0m\n",
      "\u001b[0;32m~/opt/miniconda3/envs/denoising/lib/python3.9/site-packages/numpy/core/_asarray.py\u001b[0m in \u001b[0;36masarray\u001b[0;34m(a, dtype, order)\u001b[0m\n\u001b[1;32m     81\u001b[0m \u001b[0;34m\u001b[0m\u001b[0m\n\u001b[1;32m     82\u001b[0m     \"\"\"\n\u001b[0;32m---> 83\u001b[0;31m     \u001b[0;32mreturn\u001b[0m \u001b[0marray\u001b[0m\u001b[0;34m(\u001b[0m\u001b[0ma\u001b[0m\u001b[0;34m,\u001b[0m \u001b[0mdtype\u001b[0m\u001b[0;34m,\u001b[0m \u001b[0mcopy\u001b[0m\u001b[0;34m=\u001b[0m\u001b[0;32mFalse\u001b[0m\u001b[0;34m,\u001b[0m \u001b[0morder\u001b[0m\u001b[0;34m=\u001b[0m\u001b[0morder\u001b[0m\u001b[0;34m)\u001b[0m\u001b[0;34m\u001b[0m\u001b[0;34m\u001b[0m\u001b[0m\n\u001b[0m\u001b[1;32m     84\u001b[0m \u001b[0;34m\u001b[0m\u001b[0m\n\u001b[1;32m     85\u001b[0m \u001b[0;34m\u001b[0m\u001b[0m\n",
      "\u001b[0;31mKeyboardInterrupt\u001b[0m: "
     ]
    }
   ],
   "source": [
    "# Instanciate the class\n",
    "mccd_instance = mccd.MCCD(**mccd_inst_kw, verbose=True)\n",
    "# Launch the training\n",
    "S, A_loc, A_glob, alpha, pi = mccd_instance.fit(star_list, pos_list, ccd_list, mask_list,\n",
    "                                                SNR_weight_list, **mccd_fit_kw)\n",
    "\n",
    "fitted_model_path = output_path + '/fitted_model' + str(catalog_id)\n",
    "mccd_instance.quicksave(fitted_model_path)\n"
   ]
  },
  {
   "cell_type": "markdown",
   "metadata": {},
   "source": [
    "# Validation"
   ]
  },
  {
   "cell_type": "raw",
   "metadata": {},
   "source": [
    "fitted_model_path = './../data/mccd_inputs/fitted_model2086592.npy'\n",
    "test_cat_path = './../data/mccd_inputs/test_star_selection-2086592.fits'\n"
   ]
  },
  {
   "cell_type": "code",
   "execution_count": null,
   "metadata": {},
   "outputs": [],
   "source": [
    "# Import\n",
    "test_cat = fits.open(test_cat_path)[1]\n",
    "val_dict = mccd_aux.mccd_validation(fitted_model_path, test_cat)\n"
   ]
  },
  {
   "cell_type": "code",
   "execution_count": null,
   "metadata": {},
   "outputs": [],
   "source": [
    "val_dict.keys()"
   ]
  },
  {
   "cell_type": "code",
   "execution_count": null,
   "metadata": {},
   "outputs": [],
   "source": [
    "test_stars = val_dict['VIGNET_LIST']\n",
    "matched_PSFs = val_dict['PSF_VIGNET_LIST']\n",
    "\n",
    "e1_psf = val_dict['PSF_MOM_LIST'][:,0]\n",
    "e2_psf = val_dict['PSF_MOM_LIST'][:,1]\n",
    "R2_psf = 2.*val_dict['PSF_MOM_LIST'][:,2]**2\n",
    "\n",
    "e1_star = val_dict['STAR_MOM_LIST'][:,0]\n",
    "e2_star = val_dict['STAR_MOM_LIST'][:,1]\n",
    "R2_star = 2.*val_dict['STAR_MOM_LIST'][:,2]**2\n"
   ]
  },
  {
   "cell_type": "code",
   "execution_count": null,
   "metadata": {
    "scrolled": true
   },
   "outputs": [],
   "source": [
    "pix_RMSE = np.sqrt(np.mean((test_stars - matched_PSFs)**2))\n",
    "e1_RMSE = np.sqrt(np.mean((e1_star - e1_psf)**2))\n",
    "e2_RMSE = np.sqrt(np.mean((e2_star - e2_psf)**2))\n",
    "R2_RMSE = np.sqrt(np.mean(((R2_star - R2_psf)/R2_star)**2))\n",
    "\n",
    "print('Pixel RMSE = %.5e'%(pix_RMSE))\n",
    "print('e1 RMSE = %.5e'%(e1_RMSE))\n",
    "print('e2 RMSE = %.5e'%(e2_RMSE))\n",
    "print('R2 RMSE = %.5e'%(R2_RMSE))\n"
   ]
  },
  {
   "cell_type": "markdown",
   "metadata": {},
   "source": [
    "## Plot a random test star and its model reconstruction"
   ]
  },
  {
   "cell_type": "code",
   "execution_count": 21,
   "metadata": {},
   "outputs": [
    {
     "data": {
      "image/png": "[encoded data removed]",
      "text/plain": [
       "<Figure size 600x600 with 2 Axes>"
      ]
     },
     "metadata": {
      "needs_background": "light"
     },
     "output_type": "display_data"
    },
    {
     "data": {
      "image/png": "[encoded data removed]",
      "text/plain": [
       "<Figure size 600x600 with 2 Axes>"
      ]
     },
     "metadata": {
      "needs_background": "light"
     },
     "output_type": "display_data"
    },
    {
     "data": {
      "image/png": "[encoded data removed]",
      "text/plain": [
       "<Figure size 600x600 with 2 Axes>"
      ]
     },
     "metadata": {
      "needs_background": "light"
     },
     "output_type": "display_data"
    }
   ],
   "source": [
    "idx = random.randint(0,test_stars.shape[0])\n",
    "\n",
    "plot_fun(test_stars[idx,:,:])\n",
    "plot_fun(matched_PSFs[idx,:,:])\n",
    "plot_fun(test_stars[idx,:,:] - matched_PSFs[idx,:,:])\n"
   ]
  },
  {
   "cell_type": "code",
   "execution_count": null,
   "metadata": {},
   "outputs": [],
   "source": []
  },
  {
   "cell_type": "code",
   "execution_count": null,
   "metadata": {},
   "outputs": [],
   "source": []
  },
  {
   "cell_type": "code",
   "execution_count": null,
   "metadata": {},
   "outputs": [],
   "source": []
  },
  {
   "cell_type": "code",
   "execution_count": null,
   "metadata": {},
   "outputs": [],
   "source": []
  },
  {
   "cell_type": "code",
   "execution_count": null,
   "metadata": {},
   "outputs": [],
   "source": []
  }
 ],
 "metadata": {
  "kernelspec": {
   "display_name": "Python 3",
   "language": "python",
   "name": "python3"
  },
  "language_info": {
   "codemirror_mode": {
    "name": "ipython",
    "version": 3
   },
   "file_extension": ".py",
   "mimetype": "text/x-python",
   "name": "python",
   "nbconvert_exporter": "python",
   "pygments_lexer": "ipython3",
   "version": "3.9.2"
  },
  "varInspector": {
   "cols": {
    "lenName": 16,
    "lenType": 16,
    "lenVar": 40
   },
   "kernels_config": {
    "python": {
     "delete_cmd_postfix": "",
     "delete_cmd_prefix": "del ",
     "library": "var_list.py",
     "varRefreshCmd": "print(var_dic_list())"
    },
    "r": {
     "delete_cmd_postfix": ") ",
     "delete_cmd_prefix": "rm(",
     "library": "var_list.r",
     "varRefreshCmd": "cat(var_dic_list()) "
    }
   },
   "types_to_exclude": [
    "module",
    "function",
    "builtin_function_or_method",
    "instance",
    "_Feature"
   ],
   "window_display": false
  }
 },
 "nbformat": 4,
 "nbformat_minor": 4
}
